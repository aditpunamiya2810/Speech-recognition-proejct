{
  "nbformat": 4,
  "nbformat_minor": 0,
  "metadata": {
    "colab": {
      "provenance": []
    },
    "kernelspec": {
      "name": "python3",
      "display_name": "Python 3"
    }
  },
  "cells": [
    {
      "metadata": {
        "id": "3HatCE6Iuox7",
        "outputId": "3d8fb97b-6191-48a6-c248-1f58bb942bde",
        "colab": {
          "base_uri": "https://localhost:8080/"
        }
      },
      "cell_type": "code",
      "source": [
        "from google.colab import drive\n",
        "drive.mount('/content/drive')"
      ],
      "execution_count": 45,
      "outputs": [
        {
          "output_type": "stream",
          "name": "stdout",
          "text": [
            "Drive already mounted at /content/drive; to attempt to forcibly remount, call drive.mount(\"/content/drive\", force_remount=True).\n"
          ]
        }
      ]
    },
    {
      "metadata": {
        "id": "KvQRtoKQviQy"
      },
      "cell_type": "code",
      "source": [
        "import zipfile\n",
        "zip_ref = zipfile.ZipFile(\"./drive/My Drive/hmm-speech-recognition-0.1.zip\", 'r')\n",
        "zip_ref.extractall()\n",
        "zip_ref.close()"
      ],
      "execution_count": 46,
      "outputs": []
    },
    {
      "metadata": {
        "id": "ITSHTtXMw4ox",
        "colab": {
          "base_uri": "https://localhost:8080/"
        },
        "outputId": "b09b04d5-9c6c-4382-e8a0-13197459dd1e"
      },
      "cell_type": "code",
      "source": [
        "!pip install hmmlearn\n",
        "!pip install features"
      ],
      "execution_count": 47,
      "outputs": [
        {
          "output_type": "stream",
          "name": "stdout",
          "text": [
            "Requirement already satisfied: hmmlearn in /usr/local/lib/python3.10/dist-packages (0.3.0)\n",
            "Requirement already satisfied: numpy>=1.10 in /usr/local/lib/python3.10/dist-packages (from hmmlearn) (1.23.5)\n",
            "Requirement already satisfied: scikit-learn!=0.22.0,>=0.16 in /usr/local/lib/python3.10/dist-packages (from hmmlearn) (1.2.2)\n",
            "Requirement already satisfied: scipy>=0.19 in /usr/local/lib/python3.10/dist-packages (from hmmlearn) (1.11.3)\n",
            "Requirement already satisfied: joblib>=1.1.1 in /usr/local/lib/python3.10/dist-packages (from scikit-learn!=0.22.0,>=0.16->hmmlearn) (1.3.2)\n",
            "Requirement already satisfied: threadpoolctl>=2.0.0 in /usr/local/lib/python3.10/dist-packages (from scikit-learn!=0.22.0,>=0.16->hmmlearn) (3.2.0)\n",
            "Requirement already satisfied: features in /usr/local/lib/python3.10/dist-packages (0.5.12)\n",
            "Requirement already satisfied: concepts~=0.7 in /usr/local/lib/python3.10/dist-packages (from features) (0.9.2)\n",
            "Requirement already satisfied: fileconfig~=0.5 in /usr/local/lib/python3.10/dist-packages (from features) (0.6.1)\n",
            "Requirement already satisfied: graphviz~=0.7 in /usr/local/lib/python3.10/dist-packages (from features) (0.20.1)\n",
            "Requirement already satisfied: bitsets~=0.7 in /usr/local/lib/python3.10/dist-packages (from concepts~=0.7->features) (0.8.4)\n"
          ]
        }
      ]
    },
    {
      "metadata": {
        "id": "Q3XyPUU_0Mdl",
        "colab": {
          "base_uri": "https://localhost:8080/"
        },
        "outputId": "ad5c6589-d2fc-43b7-a77a-02834d86d456"
      },
      "cell_type": "code",
      "source": [
        "!pip install librosa"
      ],
      "execution_count": 48,
      "outputs": [
        {
          "output_type": "stream",
          "name": "stdout",
          "text": [
            "Requirement already satisfied: librosa in /usr/local/lib/python3.10/dist-packages (0.10.1)\n",
            "Requirement already satisfied: audioread>=2.1.9 in /usr/local/lib/python3.10/dist-packages (from librosa) (3.0.1)\n",
            "Requirement already satisfied: numpy!=1.22.0,!=1.22.1,!=1.22.2,>=1.20.3 in /usr/local/lib/python3.10/dist-packages (from librosa) (1.23.5)\n",
            "Requirement already satisfied: scipy>=1.2.0 in /usr/local/lib/python3.10/dist-packages (from librosa) (1.11.3)\n",
            "Requirement already satisfied: scikit-learn>=0.20.0 in /usr/local/lib/python3.10/dist-packages (from librosa) (1.2.2)\n",
            "Requirement already satisfied: joblib>=0.14 in /usr/local/lib/python3.10/dist-packages (from librosa) (1.3.2)\n",
            "Requirement already satisfied: decorator>=4.3.0 in /usr/local/lib/python3.10/dist-packages (from librosa) (4.4.2)\n",
            "Requirement already satisfied: numba>=0.51.0 in /usr/local/lib/python3.10/dist-packages (from librosa) (0.56.4)\n",
            "Requirement already satisfied: soundfile>=0.12.1 in /usr/local/lib/python3.10/dist-packages (from librosa) (0.12.1)\n",
            "Requirement already satisfied: pooch>=1.0 in /usr/local/lib/python3.10/dist-packages (from librosa) (1.7.0)\n",
            "Requirement already satisfied: soxr>=0.3.2 in /usr/local/lib/python3.10/dist-packages (from librosa) (0.3.7)\n",
            "Requirement already satisfied: typing-extensions>=4.1.1 in /usr/local/lib/python3.10/dist-packages (from librosa) (4.5.0)\n",
            "Requirement already satisfied: lazy-loader>=0.1 in /usr/local/lib/python3.10/dist-packages (from librosa) (0.3)\n",
            "Requirement already satisfied: msgpack>=1.0 in /usr/local/lib/python3.10/dist-packages (from librosa) (1.0.7)\n",
            "Requirement already satisfied: llvmlite<0.40,>=0.39.0dev0 in /usr/local/lib/python3.10/dist-packages (from numba>=0.51.0->librosa) (0.39.1)\n",
            "Requirement already satisfied: setuptools in /usr/local/lib/python3.10/dist-packages (from numba>=0.51.0->librosa) (67.7.2)\n",
            "Requirement already satisfied: platformdirs>=2.5.0 in /usr/local/lib/python3.10/dist-packages (from pooch>=1.0->librosa) (3.11.0)\n",
            "Requirement already satisfied: packaging>=20.0 in /usr/local/lib/python3.10/dist-packages (from pooch>=1.0->librosa) (23.2)\n",
            "Requirement already satisfied: requests>=2.19.0 in /usr/local/lib/python3.10/dist-packages (from pooch>=1.0->librosa) (2.31.0)\n",
            "Requirement already satisfied: threadpoolctl>=2.0.0 in /usr/local/lib/python3.10/dist-packages (from scikit-learn>=0.20.0->librosa) (3.2.0)\n",
            "Requirement already satisfied: cffi>=1.0 in /usr/local/lib/python3.10/dist-packages (from soundfile>=0.12.1->librosa) (1.16.0)\n",
            "Requirement already satisfied: pycparser in /usr/local/lib/python3.10/dist-packages (from cffi>=1.0->soundfile>=0.12.1->librosa) (2.21)\n",
            "Requirement already satisfied: charset-normalizer<4,>=2 in /usr/local/lib/python3.10/dist-packages (from requests>=2.19.0->pooch>=1.0->librosa) (3.3.0)\n",
            "Requirement already satisfied: idna<4,>=2.5 in /usr/local/lib/python3.10/dist-packages (from requests>=2.19.0->pooch>=1.0->librosa) (3.4)\n",
            "Requirement already satisfied: urllib3<3,>=1.21.1 in /usr/local/lib/python3.10/dist-packages (from requests>=2.19.0->pooch>=1.0->librosa) (2.0.6)\n",
            "Requirement already satisfied: certifi>=2017.4.17 in /usr/local/lib/python3.10/dist-packages (from requests>=2.19.0->pooch>=1.0->librosa) (2023.7.22)\n"
          ]
        }
      ]
    },
    {
      "metadata": {
        "id": "yFsAl3qlwWSU"
      },
      "cell_type": "code",
      "source": [
        "import os\n",
        "import argparse\n",
        "\n",
        "import numpy as np\n",
        "from scipy.io import wavfile\n",
        "from hmmlearn import hmm\n",
        "import librosa\n"
      ],
      "execution_count": 49,
      "outputs": []
    },
    {
      "metadata": {
        "id": "zrdGiZYT0pto"
      },
      "cell_type": "code",
      "source": [
        "from librosa.feature import mfcc"
      ],
      "execution_count": 50,
      "outputs": []
    },
    {
      "metadata": {
        "id": "qCA0TiHqwpra"
      },
      "cell_type": "code",
      "source": [
        "class HMMTrainer(object):\n",
        "    def __init__(self, model_name='GaussianHMM', n_components=4, cov_type='diag', n_iter=1000):\n",
        "        self.model_name = model_name\n",
        "        self.n_components = n_components\n",
        "        self.cov_type = cov_type\n",
        "        self.n_iter = n_iter\n",
        "        self.models = []\n",
        "\n",
        "        if self.model_name == 'GaussianHMM':\n",
        "            self.model = hmm.GaussianHMM(n_components=self.n_components,\n",
        "                    covariance_type=self.cov_type, n_iter=self.n_iter)\n",
        "        else:\n",
        "            raise TypeError('Invalid model type')\n",
        "\n",
        "    # X is a 2D numpy array where each row is 13D\n",
        "    def train(self, X):\n",
        "        np.seterr(all='ignore')\n",
        "        self.models.append(self.model.fit(X))\n",
        "\n",
        "    # Run the model on input data\n",
        "    def get_score(self, input_data):\n",
        "        return self.model.score(input_data)"
      ],
      "execution_count": 51,
      "outputs": []
    },
    {
      "metadata": {
        "id": "jveeEaD3wzCb"
      },
      "cell_type": "code",
      "source": [
        "input_folder='./hmm-speech-recognition-0.1/audio'"
      ],
      "execution_count": 52,
      "outputs": []
    },
    {
      "metadata": {
        "id": "B_P8yTPOx2Jx",
        "outputId": "e4218a65-7dae-45a0-ce8c-1373edea121a",
        "colab": {
          "base_uri": "https://localhost:8080/"
        }
      },
      "cell_type": "code",
      "source": [
        " os.listdir(input_folder)"
      ],
      "execution_count": 53,
      "outputs": [
        {
          "output_type": "execute_result",
          "data": {
            "text/plain": [
              "['banana', 'apple', 'orange', 'peach', 'pineapple', 'kiwi', 'lime']"
            ]
          },
          "metadata": {},
          "execution_count": 53
        }
      ]
    },
    {
      "metadata": {
        "id": "jvb9BCkkx8T0",
        "outputId": "f1ca1656-49e5-4afa-bea8-a8d8e13cc590",
        "colab": {
          "base_uri": "https://localhost:8080/"
        }
      },
      "cell_type": "code",
      "source": [
        "for dirname in os.listdir(input_folder):\n",
        "        # Get the name of the subfolder\n",
        "      subfolder = os.path.join(input_folder, dirname)\n",
        "      #print(subfolder)\n",
        "      label = subfolder[subfolder.rfind('/') + 1:]\n",
        "      print(label)"
      ],
      "execution_count": 54,
      "outputs": [
        {
          "output_type": "stream",
          "name": "stdout",
          "text": [
            "banana\n",
            "apple\n",
            "orange\n",
            "peach\n",
            "pineapple\n",
            "kiwi\n",
            "lime\n"
          ]
        }
      ]
    },
    {
      "metadata": {
        "id": "rgSYHrAEU0Dt",
        "colab": {
          "base_uri": "https://localhost:8080/"
        },
        "outputId": "4a571f13-0d92-4cdd-c422-ef8992a7283c"
      },
      "cell_type": "code",
      "source": [
        "hmm_models = []\n",
        "for dirname in os.listdir(input_folder):\n",
        "    subfolder = os.path.join(input_folder, dirname)\n",
        "    if not os.path.isdir(subfolder):\n",
        "         continue\n",
        "    label = subfolder[subfolder.rfind('/') + 1:]\n",
        "    X = np.array([])\n",
        "    y_words = []\n",
        "    for filename in [x for x in os.listdir(subfolder) if x.endswith('.wav')][:-1]:\n",
        "            filepath = os.path.join(subfolder, filename)\n",
        "            sampling_freq, audio = librosa.load(filepath)\n",
        "            mfcc_features = librosa.feature.mfcc(y=sampling_freq, sr=audio)\n",
        "            if len(X) == 0:\n",
        "                X = mfcc_features[:,:15]\n",
        "            else:\n",
        "                X = np.append(X, mfcc_features[:,:15], axis=0)\n",
        "            y_words.append(label)\n",
        "    print('X.shape =', X.shape)\n",
        "    hmm_trainer = HMMTrainer()\n",
        "    hmm_trainer.train(X)\n",
        "    hmm_models.append((hmm_trainer, label))\n",
        "    hmm_trainer = None\n"
      ],
      "execution_count": 55,
      "outputs": [
        {
          "output_type": "stream",
          "name": "stdout",
          "text": [
            "X.shape = (280, 15)\n",
            "X.shape = (280, 15)\n",
            "X.shape = (280, 15)\n",
            "X.shape = (280, 15)\n",
            "X.shape = (280, 15)\n",
            "X.shape = (280, 15)\n",
            "X.shape = (280, 15)\n"
          ]
        }
      ]
    },
    {
      "metadata": {
        "id": "cYlkBmbm5tS3"
      },
      "cell_type": "code",
      "source": [
        "# Test files\n",
        "input_files = [\n",
        "            './hmm-speech-recognition-0.1/audio/pineapple/pineapple11.wav',\n",
        "            './hmm-speech-recognition-0.1/audio/orange/orange01.wav',\n",
        "            './hmm-speech-recognition-0.1/audio/apple/apple13.wav',\n",
        "            './hmm-speech-recognition-0.1/audio/kiwi/kiwi11.wav'\n",
        "            ]\n"
      ],
      "execution_count": 56,
      "outputs": []
    },
    {
      "metadata": {
        "id": "yiFuhE_dUPg9"
      },
      "cell_type": "code",
      "source": [],
      "execution_count": 56,
      "outputs": []
    },
    {
      "metadata": {
        "id": "lGHJEP5aUdfs",
        "colab": {
          "base_uri": "https://localhost:8080/"
        },
        "outputId": "11881e67-a38d-4a12-cbb8-be05c01949cf"
      },
      "cell_type": "code",
      "source": [
        "for input_file in input_files:\n",
        "      sampling_freq, audio = librosa.load(input_file)\n",
        "\n",
        "        # Extract MFCC features\n",
        "      mfcc_features = librosa.feature.mfcc(y=sampling_freq, sr=audio)\n",
        "      mfcc_features=mfcc_features[:,:15]\n",
        "\n",
        "      scores=[]\n",
        "      for item in hmm_models:\n",
        "          hmm_model, label = item\n",
        "\n",
        "          score = hmm_model.get_score(mfcc_features)\n",
        "          scores.append(score)\n",
        "      index=np.array(scores).argmax()\n",
        "      print(\"\\nTrue:\", input_file[input_file.find('/')+1:input_file.rfind('/')])\n",
        "      print(\"Predicted:\", hmm_models[index][1])\n",
        "\n"
      ],
      "execution_count": 57,
      "outputs": [
        {
          "output_type": "stream",
          "name": "stdout",
          "text": [
            "\n",
            "True: hmm-speech-recognition-0.1/audio/pineapple\n",
            "Predicted: pineapple\n",
            "\n",
            "True: hmm-speech-recognition-0.1/audio/orange\n",
            "Predicted: orange\n",
            "\n",
            "True: hmm-speech-recognition-0.1/audio/apple\n",
            "Predicted: apple\n",
            "\n",
            "True: hmm-speech-recognition-0.1/audio/kiwi\n",
            "Predicted: kiwi\n"
          ]
        }
      ]
    },
    {
      "metadata": {
        "id": "GUHCwa8GUljv"
      },
      "cell_type": "code",
      "source": [],
      "execution_count": 57,
      "outputs": []
    }
  ]
}